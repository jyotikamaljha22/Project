{
 "cells": [
  {
   "cell_type": "code",
   "execution_count": 1,
   "id": "7bf01986",
   "metadata": {},
   "outputs": [],
   "source": [
    "import pandas as pd\n",
    "from time import sleep\n",
    "from selenium import webdriver\n",
    "from selenium.webdriver.common.by import By\n"
   ]
  },
  {
   "cell_type": "code",
   "execution_count": 2,
   "id": "6687dcdd",
   "metadata": {},
   "outputs": [],
   "source": [
    "browser=webdriver.Chrome()\n",
    "name=[]\n",
    "qt=[]\n",
    "url=[]\n",
    "Price=[]"
   ]
  },
  {
   "cell_type": "code",
   "execution_count": 3,
   "id": "f9ddbad0",
   "metadata": {},
   "outputs": [],
   "source": [
    "for page_nb in range(1,100):\n",
    "    browser.get('https://www.bigbasket.com/cl/foodgrains-oil-masala/?nc=nb&page={}'.format(page_nb))\n",
    "    sleep(1)\n",
    "    title=browser.find_elements(By.XPATH,\"//h3[@class='block m-0 line-clamp-2 font-regular text-base leading-sm text-darkOnyx-800 pt-0.5 h-full']\")\n",
    "    for value in title:\n",
    "        name.append(value.text)\n",
    "    quantity=browser.find_elements(By.XPATH,\"//div[@class='py-1.5 xl:py-1']\")\n",
    "    for q in quantity:\n",
    "        qt.append(q.text)\n",
    "    lnks=browser.find_elements(By.XPATH,\"//a[@class='h-full']\")\n",
    "    for lnk in lnks:\n",
    "        url.append(lnk.get_attribute('href'))    \n",
    "    cost=browser.find_elements(By.XPATH,\"//div[@class='Pricing___StyledDiv-sc-pldi2d-0 bUnUzR']\")\n",
    "    for c in cost:\n",
    "        Price.append(c.text)  \n",
    "    "
   ]
  },
  {
   "cell_type": "code",
   "execution_count": 4,
   "id": "8cbc8284",
   "metadata": {},
   "outputs": [],
   "source": [
    "# Creating a DataFrame \n",
    "df=pd.DataFrame(zip(name,qt,url,Price),columns=['Name','Quantity','URL','Price'])\n",
    "# Writing the Output into the excel file\n",
    "df.to_excel('Result.xlsx',index=False)"
   ]
  },
  {
   "cell_type": "code",
   "execution_count": null,
   "id": "46d31e58",
   "metadata": {},
   "outputs": [],
   "source": [
    "\n"
   ]
  }
 ],
 "metadata": {
  "kernelspec": {
   "display_name": "Python 3 (ipykernel)",
   "language": "python",
   "name": "python3"
  },
  "language_info": {
   "codemirror_mode": {
    "name": "ipython",
    "version": 3
   },
   "file_extension": ".py",
   "mimetype": "text/x-python",
   "name": "python",
   "nbconvert_exporter": "python",
   "pygments_lexer": "ipython3",
   "version": "3.11.3"
  }
 },
 "nbformat": 4,
 "nbformat_minor": 5
}
