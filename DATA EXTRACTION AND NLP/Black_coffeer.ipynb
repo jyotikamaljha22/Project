{
 "cells": [
  {
   "cell_type": "code",
   "execution_count": 2,
   "id": "246ea1b4",
   "metadata": {},
   "outputs": [
    {
     "name": "stderr",
     "output_type": "stream",
     "text": [
      "[nltk_data] Downloading package punkt to C:\\Users\\NAVIN\n",
      "[nltk_data]     JHA\\AppData\\Roaming\\nltk_data...\n",
      "[nltk_data]   Package punkt is already up-to-date!\n",
      "[nltk_data] Downloading package stopwords to C:\\Users\\NAVIN\n",
      "[nltk_data]     JHA\\AppData\\Roaming\\nltk_data...\n",
      "[nltk_data]   Package stopwords is already up-to-date!\n"
     ]
    },
    {
     "data": {
      "text/plain": [
       "True"
      ]
     },
     "execution_count": 2,
     "metadata": {},
     "output_type": "execute_result"
    }
   ],
   "source": [
    "# Listing all the libraries required \n",
    "import pandas as pd\n",
    "import requests \n",
    "import os\n",
    "import re\n",
    "import nltk\n",
    "from bs4 import BeautifulSoup \n",
    "from nltk.tokenize import word_tokenize\n",
    "from nltk.corpus import stopwords\n",
    "import nltk; nltk. download(\"punkt\") \n",
    "nltk. download(\"stopwords\") "
   ]
  },
  {
   "cell_type": "code",
   "execution_count": 3,
   "id": "5530c4b2",
   "metadata": {},
   "outputs": [
    {
     "data": {
      "text/html": [
       "<div>\n",
       "<style scoped>\n",
       "    .dataframe tbody tr th:only-of-type {\n",
       "        vertical-align: middle;\n",
       "    }\n",
       "\n",
       "    .dataframe tbody tr th {\n",
       "        vertical-align: top;\n",
       "    }\n",
       "\n",
       "    .dataframe thead th {\n",
       "        text-align: right;\n",
       "    }\n",
       "</style>\n",
       "<table border=\"1\" class=\"dataframe\">\n",
       "  <thead>\n",
       "    <tr style=\"text-align: right;\">\n",
       "      <th></th>\n",
       "      <th>URL_ID</th>\n",
       "      <th>URL</th>\n",
       "    </tr>\n",
       "  </thead>\n",
       "  <tbody>\n",
       "    <tr>\n",
       "      <th>0</th>\n",
       "      <td>123.0</td>\n",
       "      <td>https://insights.blackcoffer.com/rise-of-telem...</td>\n",
       "    </tr>\n",
       "    <tr>\n",
       "      <th>1</th>\n",
       "      <td>321.0</td>\n",
       "      <td>https://insights.blackcoffer.com/rise-of-e-hea...</td>\n",
       "    </tr>\n",
       "    <tr>\n",
       "      <th>2</th>\n",
       "      <td>2345.0</td>\n",
       "      <td>https://insights.blackcoffer.com/rise-of-e-hea...</td>\n",
       "    </tr>\n",
       "    <tr>\n",
       "      <th>3</th>\n",
       "      <td>4321.0</td>\n",
       "      <td>https://insights.blackcoffer.com/rise-of-telem...</td>\n",
       "    </tr>\n",
       "    <tr>\n",
       "      <th>4</th>\n",
       "      <td>432.0</td>\n",
       "      <td>https://insights.blackcoffer.com/rise-of-telem...</td>\n",
       "    </tr>\n",
       "  </tbody>\n",
       "</table>\n",
       "</div>"
      ],
      "text/plain": [
       "   URL_ID                                                URL\n",
       "0   123.0  https://insights.blackcoffer.com/rise-of-telem...\n",
       "1   321.0  https://insights.blackcoffer.com/rise-of-e-hea...\n",
       "2  2345.0  https://insights.blackcoffer.com/rise-of-e-hea...\n",
       "3  4321.0  https://insights.blackcoffer.com/rise-of-telem...\n",
       "4   432.0  https://insights.blackcoffer.com/rise-of-telem..."
      ]
     },
     "execution_count": 3,
     "metadata": {},
     "output_type": "execute_result"
    }
   ],
   "source": [
    "# Reading input file \n",
    "df=pd.read_excel('Input.xlsx')\n",
    "df.head()\n",
    "\n"
   ]
  },
  {
   "cell_type": "code",
   "execution_count": 4,
   "id": "b9a441fd",
   "metadata": {},
   "outputs": [
    {
     "name": "stdout",
     "output_type": "stream",
     "text": [
      "<class 'pandas.core.frame.DataFrame'>\n",
      "RangeIndex: 114 entries, 0 to 113\n",
      "Data columns (total 2 columns):\n",
      " #   Column  Non-Null Count  Dtype  \n",
      "---  ------  --------------  -----  \n",
      " 0   URL_ID  114 non-null    float64\n",
      " 1   URL     114 non-null    object \n",
      "dtypes: float64(1), object(1)\n",
      "memory usage: 1.9+ KB\n"
     ]
    }
   ],
   "source": [
    "# Aanlyzing data in the input for blanks entry\n",
    "df.info()"
   ]
  },
  {
   "cell_type": "code",
   "execution_count": 5,
   "id": "9a858fb8",
   "metadata": {},
   "outputs": [
    {
     "name": "stdout",
     "output_type": "stream",
     "text": [
      "No title for 11668.0\n",
      "No title for 17671.4\n"
     ]
    }
   ],
   "source": [
    "# Using for loop to loop into the input file row by row\n",
    "\n",
    "for index, row in df.iterrows():\n",
    "    URL=row['URL']\n",
    "    URL_ID=row['URL_ID']\n",
    "#Use of response function to go to the URLs\n",
    "    try:\n",
    "        response=requests.get(URL)\n",
    "    except:\n",
    "        print(\"can't get response of {}\".format(URL_ID))\n",
    "#Using BeautifulSoup and Soup to get conetnt of the website\n",
    "    try:\n",
    "        soup=BeautifulSoup(response.content,'html.parser')\n",
    "    except:\n",
    "        print(\"can't get response of {}\".format(URL_ID))\n",
    "# Finding Title from the soup\n",
    "    try:\n",
    "        title=soup.find('h1').get_text()\n",
    "    except:\n",
    "        print(\"No title for {}\".format(URL_ID))\n",
    "#finding all the contents under paragraph\n",
    "    article = \"\"\n",
    "    try:\n",
    "        for p in soup.find_all('p'):\n",
    "            article += p.get_text()\n",
    "    except:\n",
    "        print(\"can't get text of {}\".format(url_id))\n",
    "#write title and text to the file\n",
    "    file_name = 'C:\\\\Users\\\\NAVIN JHA\\\\Practice\\\\Black_coffer\\\\Target_text\\\\'+str(URL_ID) + '.txt'\n",
    "    with open(file_name, 'w',encoding=\"utf-8\") as file:\n",
    "        file.write(title + '\\n' + article)"
   ]
  },
  {
   "cell_type": "code",
   "execution_count": 6,
   "id": "63525b6b",
   "metadata": {},
   "outputs": [],
   "source": [
    "#Loading stopwords and combining  \n",
    "stop_words=set()\n",
    "for files in os.listdir('StopWords'):\n",
    "    with open(os.path.join('StopWords',files),'r') as f:\n",
    "        stop_words.update(set(f.read().splitlines()))\n",
    "#Loading all the text files and store in a list\n",
    "docs=[]\n",
    "for files in os.listdir('Target_text'):\n",
    "    with open(os.path.join('Target_text',files),'r',encoding=\"utf-8\")as f:\n",
    "        text=f.read()\n",
    "#tokenize the text file\n",
    "        words=word_tokenize(text)\n",
    "# Removing Stopwords from the token \n",
    "        filtered_text=[word for word in words if word.lower() not in stop_words]\n",
    "# Add filtered tokens into the blanks list \n",
    "        docs.append(filtered_text)\n",
    "#Loading postive and negative words \n",
    "pos=set()\n",
    "neg=set()\n",
    "for files in os.listdir('MasterDictionary'):\n",
    "    if files=='negative-words.txt':\n",
    "        with open(os.path.join('MasterDictionary',files),'r')as f:\n",
    "            neg.update(f.read().splitlines())\n",
    "    else:\n",
    "        with open(os.path.join('MasterDictionary',files),'r')as f:\n",
    "            pos.update(f.read().splitlines())\n",
    "        "
   ]
  },
  {
   "cell_type": "code",
   "execution_count": 9,
   "id": "ad0387f8",
   "metadata": {},
   "outputs": [],
   "source": [
    "#Positive and negative score calclulation\n",
    "pos_words=[]\n",
    "neg_words=[]\n",
    "pos_score=[]\n",
    "neg_score=[]\n",
    "pol_score=[]\n",
    "sub_score=[]\n",
    "# Looping into the docs \n",
    "for i in range(len(docs)):\n",
    "    pos_words.append([word for word in docs[i] if word.lower() in pos])\n",
    "    neg_words.append([word for word in docs[i] if word.lower() in neg])\n",
    "    pos_score.append(len(pos_words[i]))\n",
    "    neg_score.append(len(neg_words[i]))\n",
    "# Calculation of Polarity Score and Subjectivity Score \n",
    "#Polarity Score = (Positive Score – Negative Score)/ ((Positive Score + Negative Score) + 0.000001)\n",
    "#Subjectivity Score = (Positive Score + Negative Score)/ ((Total Words after cleaning) + 0.000001)\n",
    "   \n",
    "    pol_score.append((pos_score[i]-neg_score[i])/(pos_score[i]+neg_score[i])+0.000001)\n",
    "    sub_score.append((pos_score[i]+neg_score[i])/(len(docs[i]))+0.000001)\n",
    "    "
   ]
  },
  {
   "cell_type": "code",
   "execution_count": 10,
   "id": "61a1af72",
   "metadata": {},
   "outputs": [],
   "source": [
    "# Calculation of AVG SENTENCE LENGTH,PERCENTAGE OF COMPLEX WORDS,FOG INDEX,AVG NUMBER OF WORDS PER SENTENCE,COMPLEX WORD COUNT,WORD COUNT,SYLLABLE PER WORD,PERSONAL PRONOUNS,AVG WORD LENGTH\n",
    "from nltk.corpus import stopwords\n",
    "avg_sentence_length=[]\n",
    "per_of_complex_words=[]\n",
    "fog_index=[]\n",
    "complex_word_count=[]\n",
    "syllable_word_count=[]\n",
    "\n",
    "stopword=set(stopwords.words('english'))\n",
    "#function to check though each text file\n",
    "def count_function(file):\n",
    "    with open(os.path.join('Target_text',file),'r',encoding=\"utf-8\")as f:\n",
    "        target=f.read()\n",
    "        target=re.sub(r'[^\\w\\s.]','',target)\n",
    "        sentence=target.split('.')\n",
    "        num_sentence=len(sentence)\n",
    "        words=[word for word in target.split() if word.lower() not in stopword]\n",
    "        num_words=len(words)\n",
    "        \n",
    "        complex_words=[]\n",
    "        for word in words:\n",
    "            vowels='aeiou'\n",
    "            syllable_count_words=sum(1 for letter in word if letter.lower() in vowels)\n",
    "            complex_words.append(word)\n",
    "        syllable_count=0\n",
    "        syllable_words=[]\n",
    "        for word in words:\n",
    "            if word.endswith('es'):\n",
    "                word=word[:-2]\n",
    "            elif word.endswith('ed'):\n",
    "                word=word[:-2]\n",
    "            vowels='aeiou'\n",
    "            syllable_count_words=sum(1 for letter in word if letter.lower() in vowels)\n",
    "            if syllable_count_words>=1:\n",
    "                syllable_words.append(word)\n",
    "                syllable_count +=syllable_count_words\n",
    "    avg_sentence_len = num_words / num_sentence\n",
    "    avg_syllable_word_count = syllable_count / len(syllable_words)\n",
    "    Percent_Complex_words  =  len(complex_words) / num_words\n",
    "    Fog_Index = 0.4 * (avg_sentence_len + Percent_Complex_words)\n",
    "    return avg_sentence_len,Percent_Complex_words,Fog_Index,len(complex_words),avg_syllable_word_count\n",
    "\n",
    "for file in os.listdir('Target_text'):            \n",
    "        a,b,c,d,e=count_function(file)\n",
    "        avg_sentence_length.append(a)\n",
    "        per_of_complex_words.append(b)\n",
    "        fog_index.append(c)\n",
    "        complex_word_count.append(d)\n",
    "        syllable_word_count.append(e)\n"
   ]
  },
  {
   "cell_type": "code",
   "execution_count": 11,
   "id": "259e5578",
   "metadata": {},
   "outputs": [],
   "source": [
    "# Calculation of WORD COUNT,PERSONAL PRONOUNS,AVG WORD LENGTH\n",
    "def clean(file):\n",
    "    with open(os.path.join('Target_text',file),'r',encoding=\"utf-8\")as f:\n",
    "        text=f.read()\n",
    "        text=re.sub(r'[^\\w\\s]','',text)\n",
    "        words=[word for word in text.split() if word.lower not in stopword]\n",
    "        length=sum(len(word) for word in words)\n",
    "        avg_word_length=length/len(words)\n",
    "    return len(words), avg_word_length\n",
    "word_count=[]\n",
    "avg_word_length=[]\n",
    "for files in os.listdir('Target_text'):\n",
    "    x,y=clean(files)\n",
    "    word_count.append(x)\n",
    "    avg_word_length.append(y)\n"
   ]
  },
  {
   "cell_type": "code",
   "execution_count": 12,
   "id": "1dc29d4c",
   "metadata": {},
   "outputs": [],
   "source": [
    "# Calculation of Personal Pronouns“I,” “we,” “my,” “ours,” and “us”\n",
    "\n",
    "def pp_count(file):\n",
    "    with open(os.path.join('Target_text',file), 'r',encoding=\"utf-8\") as f:\n",
    "        text = f.read()\n",
    "        personal_pronouns = [\"I\", \"we\", \"my\", \"ours\", \"us\"]\n",
    "        count = 0\n",
    "        for pronoun in personal_pronouns:\n",
    "            count += len(re.findall(r\"\\b\" + pronoun + r\"\\b\", text)) # \\b is used to match word boundaries\n",
    "        return count\n",
    "pp_counts=[]\n",
    "for file in os.listdir('Target_text'):\n",
    "    x = pp_count(file)\n",
    "    pp_counts.append(x)"
   ]
  },
  {
   "cell_type": "code",
   "execution_count": 26,
   "id": "115bd93d",
   "metadata": {},
   "outputs": [
    {
     "name": "stderr",
     "output_type": "stream",
     "text": [
      "C:\\Users\\NAVIN JHA\\AppData\\Local\\Temp\\ipykernel_5560\\2924818119.py:21: DeprecationWarning: In a future version, `df.iloc[:, i] = newvals` will attempt to set the values inplace instead of always setting a new array. To retain the old behavior, use either `df[df.columns[i]] = newvals` or, if columns are non-unique, `df.isetitem(i, newvals)`\n",
      "  df.iloc[:,i+2] = var\n"
     ]
    }
   ],
   "source": [
    "# writing output \n",
    "df=pd.read_excel('Output Data Structure.xlsx')\n",
    "# Delting the rows that conatins URL_IDs 11668.0 and 17671.4\n",
    "\n",
    "variables = [pos_score,\n",
    "            neg_score,\n",
    "            pol_score,\n",
    "            sub_score,\n",
    "            avg_sentence_length,\n",
    "            per_of_complex_words,\n",
    "            fog_index,\n",
    "            avg_sentence_length,\n",
    "            complex_word_count,\n",
    "            word_count,\n",
    "            syllable_word_count,\n",
    "            pp_counts,\n",
    "            avg_word_length]\n",
    "\n",
    "# write the values to the dataframe\n",
    "for i, var in enumerate(variables):\n",
    "    df.iloc[:,i+2] = var\n",
    "\n",
    "#now save the dataframe to the disk\n",
    "df.to_csv('Output_Data.csv')\n"
   ]
  }
 ],
 "metadata": {
  "kernelspec": {
   "display_name": "Python 3 (ipykernel)",
   "language": "python",
   "name": "python3"
  },
  "language_info": {
   "codemirror_mode": {
    "name": "ipython",
    "version": 3
   },
   "file_extension": ".py",
   "mimetype": "text/x-python",
   "name": "python",
   "nbconvert_exporter": "python",
   "pygments_lexer": "ipython3",
   "version": "3.11.3"
  }
 },
 "nbformat": 4,
 "nbformat_minor": 5
}
