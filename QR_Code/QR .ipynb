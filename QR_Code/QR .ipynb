{
 "cells": [
  {
   "cell_type": "code",
   "execution_count": 1,
   "id": "e0a16ddb",
   "metadata": {},
   "outputs": [],
   "source": [
    "# Library required\n",
    "import qrcode\n",
    "import image"
   ]
  },
  {
   "cell_type": "code",
   "execution_count": 5,
   "id": "6a5128aa",
   "metadata": {},
   "outputs": [],
   "source": [
    "qr=qrcode.QRCode(\n",
    "    version=15,\n",
    "    error_correction=0,\n",
    "    box_size=8,\n",
    "    border=4,\n",
    ")"
   ]
  },
  {
   "cell_type": "code",
   "execution_count": 6,
   "id": "7f1a6446",
   "metadata": {},
   "outputs": [],
   "source": [
    "# Giving the link to be navigated through QR code \n",
    "link='https://github.com/jyotikamaljha22/Project'"
   ]
  },
  {
   "cell_type": "code",
   "execution_count": 7,
   "id": "b29b4ceb",
   "metadata": {},
   "outputs": [],
   "source": [
    "qr.add_data(link)\n",
    "qr.make(fit=True)\n",
    "img=qr.make_image(fill='black',back_color='yellow')\n",
    "img.save('qr.png')"
   ]
  },
  {
   "cell_type": "code",
   "execution_count": null,
   "id": "646c014e",
   "metadata": {},
   "outputs": [],
   "source": []
  }
 ],
 "metadata": {
  "kernelspec": {
   "display_name": "Python 3 (ipykernel)",
   "language": "python",
   "name": "python3"
  },
  "language_info": {
   "codemirror_mode": {
    "name": "ipython",
    "version": 3
   },
   "file_extension": ".py",
   "mimetype": "text/x-python",
   "name": "python",
   "nbconvert_exporter": "python",
   "pygments_lexer": "ipython3",
   "version": "3.11.3"
  }
 },
 "nbformat": 4,
 "nbformat_minor": 5
}
