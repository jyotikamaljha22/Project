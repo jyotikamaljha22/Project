{
 "cells": [
  {
   "cell_type": "code",
   "execution_count": 1,
   "id": "704cedb3",
   "metadata": {},
   "outputs": [],
   "source": [
    "# Importing required libraries\n",
    "import numpy as np\n",
    "import pandas as pd\n",
    "from selenium import webdriver\n",
    "from time import sleep\n",
    "from selenium.webdriver.common.by import By\n",
    "from lxml import html"
   ]
  },
  {
   "cell_type": "code",
   "execution_count": 2,
   "id": "2f47c673",
   "metadata": {},
   "outputs": [],
   "source": [
    "# Defining Google Chrome as Browser\n",
    "browser=webdriver.Chrome()\n",
    "#Defing the required output list\n",
    "name=[]\n",
    "url=[]\n",
    "cost=[]\n",
    "star=[]\n",
    "no_of_ratings=[]\n",
    "# Starting a loop for different pages from 1 to 20\n",
    "for page_nb in range(1,21):\n",
    "    # Giving the web address to the broswer\n",
    "    browser.get('https://www.amazon.in/s?k=bags&crid=2M096C61O4MLT&qid=1653308124&sprefix=ba%2Caps%2C283&ref=sr_pg_{}'.format(page_nb))\n",
    "    # sleep of 1 seconnd is added\n",
    "    sleep(1)\n",
    "    # Finding the ttile \n",
    "    title=browser.find_elements(By.XPATH, \"//span[@class='a-size-medium a-color-base a-text-normal']\")\n",
    "    # Looping in the list of Titles extracted to get Titles one by one\n",
    "    for value in title:\n",
    "        # Appending all the titles into the blank List \n",
    "        name.append(value.text)\n",
    "    # Finding URL of the products\n",
    "    lnks=browser.find_elements(By.XPATH,\"//a[@class='a-link-normal s-underline-text s-underline-link-text s-link-style a-text-normal']\")\n",
    "    for lnk in lnks:\n",
    "        url.append(lnk.get_attribute('href'))\n",
    "    # Finding Price of the product\n",
    "    price=browser.find_elements(By.XPATH,\"//span[@class='a-price-whole']\")\n",
    "    for p in price:\n",
    "        cost.append(p.text)\n",
    "    #Finding the average review by customer\n",
    "    rev=browser.find_elements(By.XPATH,\"//a[@class='a-popover-trigger a-declarative']\")\n",
    "    for revie in rev:\n",
    "        star.append(revie.get_attribute('textContent'))\n",
    "    # Finding the number of users rated \n",
    "    ratings=browser.find_elements(By.XPATH,\"//span[@class='a-size-base s-underline-text']\")\n",
    "    for r in ratings:\n",
    "        no_of_ratings.append(r.text)"
   ]
  },
  {
   "cell_type": "code",
   "execution_count": 3,
   "id": "ac10540f",
   "metadata": {},
   "outputs": [],
   "source": [
    "# Creating a DataFrame \n",
    "df=pd.DataFrame(zip(name,url,cost,star,no_of_ratings),columns=['Name','Link','Price','Reviews out of 5','Ratings'])\n",
    "# Writing the Output into the excel file\n",
    "df.to_excel('Result.xlsx',index=False)"
   ]
  },
  {
   "cell_type": "code",
   "execution_count": 4,
   "id": "878fdcc2",
   "metadata": {},
   "outputs": [],
   "source": [
    "# First Part of the Project is completed\n"
   ]
  },
  {
   "cell_type": "code",
   "execution_count": null,
   "id": "2a802d1c",
   "metadata": {},
   "outputs": [],
   "source": []
  }
 ],
 "metadata": {
  "kernelspec": {
   "display_name": "Python 3 (ipykernel)",
   "language": "python",
   "name": "python3"
  },
  "language_info": {
   "codemirror_mode": {
    "name": "ipython",
    "version": 3
   },
   "file_extension": ".py",
   "mimetype": "text/x-python",
   "name": "python",
   "nbconvert_exporter": "python",
   "pygments_lexer": "ipython3",
   "version": "3.11.3"
  }
 },
 "nbformat": 4,
 "nbformat_minor": 5
}
